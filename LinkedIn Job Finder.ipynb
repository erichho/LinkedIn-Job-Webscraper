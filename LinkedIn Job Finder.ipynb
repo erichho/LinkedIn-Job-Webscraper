{
 "cells": [
  {
   "cell_type": "markdown",
   "id": "ec2e71c6",
   "metadata": {
    "tags": []
   },
   "source": [
    "# Libraries we'll use"
   ]
  },
  {
   "cell_type": "code",
   "execution_count": null,
   "id": "0bf85633",
   "metadata": {},
   "outputs": [],
   "source": [
    "#Run this to install all needed libraries\n",
    "!pip install pandas selenium textract scikit-learn spacy nltk\n"
   ]
  },
  {
   "cell_type": "code",
   "execution_count": null,
   "id": "97ac9943-68ae-47ef-a393-7621c5a57d30",
   "metadata": {},
   "outputs": [],
   "source": [
    "#Download english model for spacy\n",
    "!python -m spacy download en"
   ]
  },
  {
   "cell_type": "markdown",
   "id": "568ea41a",
   "metadata": {
    "tags": []
   },
   "source": [
    " # Import libraries"
   ]
  },
  {
   "cell_type": "code",
   "execution_count": 5,
   "id": "51d96538",
   "metadata": {},
   "outputs": [
    {
     "name": "stderr",
     "output_type": "stream",
     "text": [
      "[nltk_data] Downloading package punkt to\n",
      "[nltk_data]     /Users/erichhohenstein/nltk_data...\n",
      "[nltk_data]   Package punkt is already up-to-date!\n",
      "[nltk_data] Downloading package stopwords to\n",
      "[nltk_data]     /Users/erichhohenstein/nltk_data...\n",
      "[nltk_data]   Package stopwords is already up-to-date!\n"
     ]
    }
   ],
   "source": [
    "import pandas as pd\n",
    "from selenium import webdriver\n",
    "from selenium.webdriver.common.keys import Keys\n",
    "from selenium.webdriver.common.by import By\n",
    "from selenium.webdriver.common.action_chains import ActionChains\n",
    "import textract # Library to read PDFs\n",
    "import time # PreInstalled library to add sleeping times\n",
    "from sklearn.feature_extraction.text import CountVectorizer \n",
    "from sklearn.metrics.pairwise import cosine_similarity\n",
    "import string\n",
    "import spacy\n",
    "from nltk.tokenize import word_tokenize\n",
    "import nltk\n",
    "from nltk.corpus import stopwords\n",
    "all_stopwords = stopwords.words('english')\n",
    "import ssl\n",
    "\n",
    "try:\n",
    "    _create_unverified_https_context = ssl._create_unverified_context\n",
    "except AttributeError:\n",
    "    pass\n",
    "else:\n",
    "    ssl._create_default_https_context = _create_unverified_https_context\n",
    "nltk.download('punkt')\n",
    "nltk.download('stopwords')\n",
    "from nltk.corpus import stopwords\n",
    "all_stopwords = stopwords.words('english')+stopwords.words('spanish')"
   ]
  },
  {
   "cell_type": "markdown",
   "id": "4a9fcc06-494f-4e0d-9a9a-f01eddbf3c59",
   "metadata": {},
   "source": [
    "# Functions definitions"
   ]
  },
  {
   "cell_type": "code",
   "execution_count": 6,
   "id": "133d898f-cd1d-4b7e-be20-c07548869998",
   "metadata": {},
   "outputs": [],
   "source": [
    "\n",
    "def cleanText(text):\n",
    "    text = text.lower()\n",
    "    text = text.translate(str.maketrans('', '', string.punctuation))\n",
    "    text_tokens = word_tokenize(text)\n",
    "    tokens_without_sw= [word for word in text_tokens if not word in all_stopwords]\n",
    "    text = ' '.join(tokens_without_sw)\n",
    "    return text\n",
    "\n",
    "def resumeReader(pdf):\n",
    "    # Read Resume\n",
    "    with open(pdf, \"rb\") as pdf_file:\n",
    "        resume = textract.process(pdf).decode(\"utf-8\").replace('\\n',' ')\n",
    "    return resume\n",
    "\n",
    "def score(resume,jobDescription):\n",
    "    cv = CountVectorizer()\n",
    "    resume = ' '.join(set(cleanText(resume).split(' ')))\n",
    "    jobDescription = ' '.join(set(cleanText(jobDescription).split(' ')))\n",
    "    text = [resume,jobDescription]\n",
    "    count_matrix = cv.fit_transform(text)\n",
    "    return round(cosine_similarity(count_matrix)[0][1],2)\n",
    "    \n",
    "def getJobInfo(browser):\n",
    "    title = ''\n",
    "    company = ''\n",
    "    companyLink = ''\n",
    "    location = ''\n",
    "    jobLink = ''\n",
    "    posterName = ''\n",
    "    posterProfileLink = ''\n",
    "    jobDescription = ''\n",
    "    try:\n",
    "        title = browser.find_element(By.CLASS_NAME,'jobs-unified-top-card__content--two-pane').text.split('\\n')[0]\n",
    "    except:\n",
    "        pass\n",
    "    try:\n",
    "        company = browser.find_element(By.CLASS_NAME,'jobs-unified-top-card__company-name').text\n",
    "    except:\n",
    "        pass\n",
    "    try:\n",
    "        companyLink = browser.find_element(By.CLASS_NAME,'jobs-unified-top-card__company-name').find_element(By.TAG_NAME,'a').get_attribute('href')\n",
    "    except:\n",
    "        pass\n",
    "    try:\n",
    "        location = browser.find_element(By.CLASS_NAME,'jobs-unified-top-card__bullet').text\n",
    "    except:\n",
    "        pass\n",
    "    try:\n",
    "        jobLink = browser.find_element(By.CLASS_NAME,'jobs-unified-top-card__content--two-pane').find_element(By.TAG_NAME,'a').get_attribute('href')\n",
    "    except:\n",
    "        pass\n",
    "    try:\n",
    "        posterName = browser.find_element(By.CLASS_NAME,'jobs-poster__name').text\n",
    "    except:\n",
    "        pass\n",
    "    try:\n",
    "        posterProfileLink = browser.find_element(By.CLASS_NAME,'jobs-poster__name-link').get_attribute('href')\n",
    "    except:\n",
    "        pass\n",
    "    try:\n",
    "        jobDescription = browser.find_element(By.CLASS_NAME,'jobs-box__html-content').find_element(By.TAG_NAME,'span').text.replace('\\n',' ')\n",
    "    except:\n",
    "        pass\n",
    "    return [title,company,companyLink,location,jobLink,posterName,posterProfileLink,jobDescription]\n",
    "\n",
    "def loginLinkedIn(browser,usr,psw):\n",
    "    # Go to LinkedIn Login page\n",
    "    browser.get('https://www.linkedin.com/login/es?fromSignIn=true&trk=guest_homepage-basic_nav-header-signin')\n",
    "    time.sleep(4)\n",
    "    browser.find_element(By.ID,'username').send_keys(usr)\n",
    "    time.sleep(1)\n",
    "    browser.find_element(By.ID,'password').send_keys(psw)\n",
    "    time.sleep(1)\n",
    "    browser.find_element(By.CLASS_NAME,'btn__primary--large').click()\n",
    "    return browser\n",
    "\n",
    "\n",
    "\n",
    "def getLinkedinJobs(browser,keyword,jobType,maxPageNumSearch):\n",
    "    actions = ActionChains(browser)\n",
    "    jobtype = str(jobType) #2 = Remote\n",
    "    keyword = keyword.replace(' ','%20') # %20 = space\n",
    "    jobData = [['title','company','companyLink','location','jobLink','posterName','posterProfileLink','jobDescription']]\n",
    "    for p in range(maxPageNumSearch):\n",
    "        page = str(p*25)\n",
    "        #print(page)\n",
    "        browser.get('https://www.linkedin.com/jobs/search/?f_WT='+jobtype+'&geoId=92000000&keywords='+keyword+'&location=Worldwide&sortBy=R&start='+page)\n",
    "        time.sleep(3)\n",
    "        #Search for all job postings shown\n",
    "        jobs = browser.find_elements(By.CLASS_NAME,'jobs-search-results__list-item')\n",
    "        i=0\n",
    "        for j in jobs:\n",
    "            #print(i)\n",
    "            i+=1\n",
    "            time.sleep(2)\n",
    "            actions.move_to_element(j).perform()\n",
    "            j.find_element(By.TAG_NAME,'img').click() #Click on the image so it doesnt misclick a URL\n",
    "            jobData.append(getJobInfo(browser))\n",
    "    df = pd.DataFrame(jobData[1:],columns=jobData[0])\n",
    "    #Drop any duplicate\n",
    "    df.drop_duplicates(subset = ['jobLink'],inplace=True)\n",
    "    return df\n"
   ]
  },
  {
   "cell_type": "markdown",
   "id": "7e04de5e-4933-4eec-99ca-94278373842a",
   "metadata": {},
   "source": [
    "# Open Chrome browser and login to LinkedIn"
   ]
  },
  {
   "cell_type": "code",
   "execution_count": 7,
   "id": "cf303fdc",
   "metadata": {},
   "outputs": [
    {
     "name": "stderr",
     "output_type": "stream",
     "text": [
      "/var/folders/sv/h40mp38x6f18zrppxc364z_00000gn/T/ipykernel_7012/3238571081.py:3: DeprecationWarning: executable_path has been deprecated, please pass in a Service object\n",
      "  browser = webdriver.Chrome('/Users/erichhohenstein/Documents/ChromeDriver/chromedriver')\n"
     ]
    }
   ],
   "source": [
    "# Download Chromedriver from: https://chromedriver.chromium.org/downloads\n",
    "#Create browser instance by giving the address to chrome webdriver\n",
    "browser = webdriver.Chrome('/Users/erichhohenstein/Documents/ChromeDriver/chromedriver')\n",
    "browser = loginLinkedIn(browser,'email','password')\n"
   ]
  },
  {
   "cell_type": "markdown",
   "id": "8e41c942-a908-4238-b005-a92b20d7d376",
   "metadata": {},
   "source": [
    "# Search and Scrape LinkedIn Jobs"
   ]
  },
  {
   "cell_type": "code",
   "execution_count": 165,
   "id": "0180f45c-04c6-4656-89b8-e2252246755c",
   "metadata": {},
   "outputs": [],
   "source": [
    "df = getLinkedinJobs(browser,'data science','2',40)"
   ]
  },
  {
   "cell_type": "markdown",
   "id": "4ce83d9b-162c-45f5-8c22-2ad11cff399a",
   "metadata": {},
   "source": [
    "# Score jobs agains your Resume"
   ]
  },
  {
   "cell_type": "code",
   "execution_count": 166,
   "id": "568d8106-bf7d-4953-92d8-75ba416908c2",
   "metadata": {},
   "outputs": [],
   "source": [
    "pdf = \"./Erich Hohenstein - Resume.pdf\"\n",
    "resume = resumeReader(pdf)\n",
    "df['score'] = df['jobDescription'].apply(lambda x: score(resume,x))\n",
    "df.sort_values(by=['score'],ascending=False,inplace=True)"
   ]
  },
  {
   "cell_type": "markdown",
   "id": "c51adf1e-1720-4f8c-8bc1-b41bcde55bb0",
   "metadata": {},
   "source": [
    "# Save data to CSV"
   ]
  },
  {
   "cell_type": "code",
   "execution_count": 168,
   "id": "df3de272",
   "metadata": {},
   "outputs": [],
   "source": [
    "#df = pd.read_csv('jobs.csv')\n",
    "df.to_csv('jobs.csv', index=False)"
   ]
  },
  {
   "cell_type": "code",
   "execution_count": 190,
   "id": "fe09afb4-6a03-4136-b571-a902099f8dff",
   "metadata": {},
   "outputs": [
    {
     "data": {
      "text/html": [
       "<div>\n",
       "<style scoped>\n",
       "    .dataframe tbody tr th:only-of-type {\n",
       "        vertical-align: middle;\n",
       "    }\n",
       "\n",
       "    .dataframe tbody tr th {\n",
       "        vertical-align: top;\n",
       "    }\n",
       "\n",
       "    .dataframe thead th {\n",
       "        text-align: right;\n",
       "    }\n",
       "</style>\n",
       "<table border=\"1\" class=\"dataframe\">\n",
       "  <thead>\n",
       "    <tr style=\"text-align: right;\">\n",
       "      <th></th>\n",
       "      <th>title</th>\n",
       "      <th>company</th>\n",
       "      <th>companyLink</th>\n",
       "      <th>location</th>\n",
       "      <th>jobLink</th>\n",
       "      <th>posterName</th>\n",
       "      <th>posterProfileLink</th>\n",
       "      <th>jobDescription</th>\n",
       "      <th>score</th>\n",
       "    </tr>\n",
       "  </thead>\n",
       "  <tbody>\n",
       "    <tr>\n",
       "      <th>599</th>\n",
       "      <td>Data Scientist</td>\n",
       "      <td>Dice</td>\n",
       "      <td>https://www.linkedin.com/jobs/search/?currentJ...</td>\n",
       "      <td>United States</td>\n",
       "      <td>https://www.linkedin.com/jobs/view/3054398721/...</td>\n",
       "      <td></td>\n",
       "      <td></td>\n",
       "      <td>Dice is the leading career destination for tec...</td>\n",
       "      <td>0.22</td>\n",
       "    </tr>\n",
       "    <tr>\n",
       "      <th>154</th>\n",
       "      <td>Senior Data Scientist</td>\n",
       "      <td>INDIAEXCITE</td>\n",
       "      <td>https://www.linkedin.com/jobs/search/?currentJ...</td>\n",
       "      <td>India</td>\n",
       "      <td>https://www.linkedin.com/jobs/view/3059645658/...</td>\n",
       "      <td></td>\n",
       "      <td></td>\n",
       "      <td>The ideal candidate's favorite words are learn...</td>\n",
       "      <td>0.21</td>\n",
       "    </tr>\n",
       "    <tr>\n",
       "      <th>688</th>\n",
       "      <td>Data Scientitst, Healthcare</td>\n",
       "      <td>Blue Health Intelligence</td>\n",
       "      <td>https://www.linkedin.com/jobs/search/?currentJ...</td>\n",
       "      <td>United States</td>\n",
       "      <td>https://www.linkedin.com/jobs/view/3016714422/...</td>\n",
       "      <td></td>\n",
       "      <td></td>\n",
       "      <td>Position Summary Working with the nation’s lar...</td>\n",
       "      <td>0.21</td>\n",
       "    </tr>\n",
       "    <tr>\n",
       "      <th>116</th>\n",
       "      <td>Data Analyst - OpenData - APAC</td>\n",
       "      <td>Veeva Systems</td>\n",
       "      <td>https://www.linkedin.com/jobs/search/?currentJ...</td>\n",
       "      <td>Mumbai Metropolitan Region</td>\n",
       "      <td>https://www.linkedin.com/jobs/view/3050280196/...</td>\n",
       "      <td></td>\n",
       "      <td></td>\n",
       "      <td>Veeva [NYSE: VEEV] is the leader in cloud-base...</td>\n",
       "      <td>0.21</td>\n",
       "    </tr>\n",
       "    <tr>\n",
       "      <th>47</th>\n",
       "      <td>Data Analyst - OpenData - APAC</td>\n",
       "      <td>Veeva Systems</td>\n",
       "      <td>https://www.linkedin.com/jobs/search/?currentJ...</td>\n",
       "      <td>Singapore, Singapore</td>\n",
       "      <td>https://www.linkedin.com/jobs/view/3050279263/...</td>\n",
       "      <td></td>\n",
       "      <td></td>\n",
       "      <td>Veeva [NYSE: VEEV] is the leader in cloud-base...</td>\n",
       "      <td>0.21</td>\n",
       "    </tr>\n",
       "  </tbody>\n",
       "</table>\n",
       "</div>"
      ],
      "text/plain": [
       "                              title                   company  \\\n",
       "599                  Data Scientist                      Dice   \n",
       "154           Senior Data Scientist               INDIAEXCITE   \n",
       "688     Data Scientitst, Healthcare  Blue Health Intelligence   \n",
       "116  Data Analyst - OpenData - APAC             Veeva Systems   \n",
       "47   Data Analyst - OpenData - APAC             Veeva Systems   \n",
       "\n",
       "                                           companyLink  \\\n",
       "599  https://www.linkedin.com/jobs/search/?currentJ...   \n",
       "154  https://www.linkedin.com/jobs/search/?currentJ...   \n",
       "688  https://www.linkedin.com/jobs/search/?currentJ...   \n",
       "116  https://www.linkedin.com/jobs/search/?currentJ...   \n",
       "47   https://www.linkedin.com/jobs/search/?currentJ...   \n",
       "\n",
       "                       location  \\\n",
       "599               United States   \n",
       "154                       India   \n",
       "688               United States   \n",
       "116  Mumbai Metropolitan Region   \n",
       "47         Singapore, Singapore   \n",
       "\n",
       "                                               jobLink posterName  \\\n",
       "599  https://www.linkedin.com/jobs/view/3054398721/...              \n",
       "154  https://www.linkedin.com/jobs/view/3059645658/...              \n",
       "688  https://www.linkedin.com/jobs/view/3016714422/...              \n",
       "116  https://www.linkedin.com/jobs/view/3050280196/...              \n",
       "47   https://www.linkedin.com/jobs/view/3050279263/...              \n",
       "\n",
       "    posterProfileLink                                     jobDescription  \\\n",
       "599                    Dice is the leading career destination for tec...   \n",
       "154                    The ideal candidate's favorite words are learn...   \n",
       "688                    Position Summary Working with the nation’s lar...   \n",
       "116                    Veeva [NYSE: VEEV] is the leader in cloud-base...   \n",
       "47                     Veeva [NYSE: VEEV] is the leader in cloud-base...   \n",
       "\n",
       "     score  \n",
       "599   0.22  \n",
       "154   0.21  \n",
       "688   0.21  \n",
       "116   0.21  \n",
       "47    0.21  "
      ]
     },
     "execution_count": 190,
     "metadata": {},
     "output_type": "execute_result"
    }
   ],
   "source": [
    "df.head(5)"
   ]
  }
 ],
 "metadata": {
  "kernelspec": {
   "display_name": "virtualenv",
   "language": "python",
   "name": "virtualenv"
  },
  "language_info": {
   "codemirror_mode": {
    "name": "ipython",
    "version": 3
   },
   "file_extension": ".py",
   "mimetype": "text/x-python",
   "name": "python",
   "nbconvert_exporter": "python",
   "pygments_lexer": "ipython3",
   "version": "3.10.2"
  }
 },
 "nbformat": 4,
 "nbformat_minor": 5
}
